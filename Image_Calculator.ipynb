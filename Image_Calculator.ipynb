{
 "cells": [
  {
   "cell_type": "code",
   "execution_count": 1,
   "id": "02ba0f6a",
   "metadata": {},
   "outputs": [],
   "source": [
    "# -*- coding: utf-8 -*-\n",
    "\"\"\"\n",
    "Created on Sun Feb 12 11:06:55 2023\n",
    "@author: Paek, MunYoung\n",
    "HomeWork1: Class function which include 4 arithmetic functions between desided channel of each image.\n",
    "\"\"\"\n",
    "\n",
    "import cv2 # Open CV library for various image processing\n",
    "import numpy as np\n",
    "\n",
    "class Image_Calculator:\n",
    "    def __init__(self, img1, img2):\n",
    "        self.img1 = img1\n",
    "        self.img2 = img2\n",
    "        \n",
    "    def add(self, ch1, ch2):\n",
    "        img1_channels = cv2.split(self.img1)\n",
    "        img2_channels = cv2.split(self.img2)\n",
    "        img1_ch = img1_channels[ch1]\n",
    "        img2_ch = img2_channels[ch2]\n",
    "        output_img = cv2.add(img1_ch, img2_ch)\n",
    "        return output_img\n",
    "    \n",
    "    def subtract(self, ch1, ch2):\n",
    "        img1_channels = cv2.split(self.img1)\n",
    "        img2_channels = cv2.split(self.img2)\n",
    "        img1_ch = img1_channels[ch1]\n",
    "        img2_ch = img2_channels[ch2]\n",
    "        output_img = cv2.subtract(img1_ch, img2_ch)\n",
    "        return output_img\n",
    "    \n",
    "    def multiply(self, ch1, ch2):\n",
    "        img1_channels = cv2.split(self.img1)\n",
    "        img2_channels = cv2.split(self.img2)\n",
    "        img1_ch = img1_channels[ch1]\n",
    "        img2_ch = img2_channels[ch2]\n",
    "        output_img = cv2.multiply(img1_ch, img2_ch)\n",
    "        return output_img\n",
    "    \n",
    "    def divide(self, ch1, ch2):\n",
    "        img1_channels = cv2.split(self.img1)\n",
    "        img2_channels = cv2.split(self.img2)\n",
    "        img1_ch = img1_channels[ch1]\n",
    "        img2_ch = img2_channels[ch2]\n",
    "        output_img = cv2.divide(img1_ch, img2_ch)\n",
    "        return output_img\n",
    "    \n",
    "file_path1 = \"C:\\\\Users\\\\sel03933\\\\Documents\\\\Python\\\\png_img\\\\pre.jpg\"\n",
    "img1 = cv2.imread(file_path1)\n",
    "cv2.imshow(file_path1, img1)\n",
    "\n",
    "file_path2 = \"C:\\\\Users\\\\sel03933\\\\Documents\\\\Python\\\\png_img\\\\artery.jpg\"\n",
    "img2 = cv2.imread(file_path2)\n",
    "cv2.imshow(file_path2, img2)\n",
    "\n",
    "img_cal = Image_Calculator(img2, img1)\n",
    "output_img = img_cal.subtract(2,2)\n",
    "cv2.imshow(\"Output\", output_img)"
   ]
  },
  {
   "cell_type": "code",
   "execution_count": null,
   "id": "418047ba",
   "metadata": {},
   "outputs": [],
   "source": []
  },
  {
   "cell_type": "code",
   "execution_count": null,
   "id": "867a529c",
   "metadata": {},
   "outputs": [],
   "source": []
  }
 ],
 "metadata": {
  "kernelspec": {
   "display_name": "Python 3 (ipykernel)",
   "language": "python",
   "name": "python3"
  },
  "language_info": {
   "codemirror_mode": {
    "name": "ipython",
    "version": 3
   },
   "file_extension": ".py",
   "mimetype": "text/x-python",
   "name": "python",
   "nbconvert_exporter": "python",
   "pygments_lexer": "ipython3",
   "version": "3.9.13"
  }
 },
 "nbformat": 4,
 "nbformat_minor": 5
}
